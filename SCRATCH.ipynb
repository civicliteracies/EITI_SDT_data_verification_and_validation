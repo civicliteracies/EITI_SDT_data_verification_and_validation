{
 "cells": [
  {
   "cell_type": "code",
   "execution_count": 2,
   "id": "ecb9dd2a-16e3-4b20-bf38-d301b8b4570f",
   "metadata": {},
   "outputs": [
    {
     "data": {
      "text/html": [
       "<div>\n",
       "<style scoped>\n",
       "    .dataframe tbody tr th:only-of-type {\n",
       "        vertical-align: middle;\n",
       "    }\n",
       "\n",
       "    .dataframe tbody tr th {\n",
       "        vertical-align: top;\n",
       "    }\n",
       "\n",
       "    .dataframe thead th {\n",
       "        text-align: right;\n",
       "    }\n",
       "</style>\n",
       "<table border=\"1\" class=\"dataframe\">\n",
       "  <thead>\n",
       "    <tr style=\"text-align: right;\">\n",
       "      <th></th>\n",
       "      <th>project_name</th>\n",
       "      <th>count</th>\n",
       "    </tr>\n",
       "  </thead>\n",
       "  <tbody>\n",
       "    <tr>\n",
       "      <th>0</th>\n",
       "      <td>Project1</td>\n",
       "      <td>3</td>\n",
       "    </tr>\n",
       "    <tr>\n",
       "      <th>1</th>\n",
       "      <td>Project2</td>\n",
       "      <td>2</td>\n",
       "    </tr>\n",
       "  </tbody>\n",
       "</table>\n",
       "</div>"
      ],
      "text/plain": [
       "  project_name  count\n",
       "0     Project1      3\n",
       "1     Project2      2"
      ]
     },
     "execution_count": 2,
     "metadata": {},
     "output_type": "execute_result"
    }
   ],
   "source": [
    "import pandas as pd\n",
    "\n",
    "# Assuming your DataFrame is named 'projects_df'\n",
    "# Replace this with your actual DataFrame name if it's different\n",
    "\n",
    "# Sample DataFrame (Replace this with your actual data)\n",
    "projects_data = {'project_name': ['Project1', 'Project2', 'Project1', 'Project3', 'Project2', 'Project4', 'Project1'],\n",
    "                 'company': ['ABC Corp', 'XYZ Ltd', 'ABC Corp', 'PQR Inc', 'XYZ Ltd', 'LMN Co', 'ABC Corp'],\n",
    "                 'type': ['TypeA', 'TypeB', 'TypeA', 'TypeC', 'TypeB', 'TypeD', 'TypeA'],\n",
    "                 'country': ['USA', 'Canada', 'USA', 'UK', 'Canada', 'Australia', 'USA'],\n",
    "                 'year': [2020, 2020, 2021, 2021, 2020, 2022, 2021]}\n",
    "\n",
    "projects_df = pd.DataFrame(projects_data)\n",
    "\n",
    "# Find and display duplicate project names with their count\n",
    "duplicate_projects = projects_df[projects_df.duplicated('project_name', keep=False)]\n",
    "duplicate_projects_count = duplicate_projects.groupby('project_name').size().reset_index(name='count')\n",
    "\n",
    "duplicate_projects_count"
   ]
  }
 ],
 "metadata": {
  "kernelspec": {
   "display_name": "Python 3 (ipykernel)",
   "language": "python",
   "name": "python3"
  },
  "language_info": {
   "codemirror_mode": {
    "name": "ipython",
    "version": 3
   },
   "file_extension": ".py",
   "mimetype": "text/x-python",
   "name": "python",
   "nbconvert_exporter": "python",
   "pygments_lexer": "ipython3",
   "version": "3.10.12"
  }
 },
 "nbformat": 4,
 "nbformat_minor": 5
}
