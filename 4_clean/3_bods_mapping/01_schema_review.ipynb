{
 "cells": [
  {
   "cell_type": "code",
   "execution_count": 3,
   "metadata": {},
   "outputs": [],
   "source": [
    "import requests\n",
    "import json\n",
    "\n",
    "# store schemas in variables\n",
    "relationship_record = 'https://raw.githubusercontent.com/openownership/data-standard/main/schema/relationship-record.json'\n",
    "entity_record = 'https://raw.githubusercontent.com/openownership/data-standard/main/schema/entity-record.json'\n",
    "statement = 'https://raw.githubusercontent.com/openownership/data-standard/main/schema/statement.json'\n",
    "components = 'https://raw.githubusercontent.com/openownership/data-standard/main/schema/components.json'"
   ]
  },
  {
   "cell_type": "code",
   "execution_count": 4,
   "metadata": {},
   "outputs": [],
   "source": [
    "\n",
    "# Fetches a JSON schema from a given URL and returns iit as a Python dictionary\n",
    "def fetch_schema_from_url(url):\n",
    "    response = requests.get(url)\n",
    "    response.raise_for_status()\n",
    "    return response.json()\n",
    "\n",
    "# Recursively find all $ref references in a JSON schema and returns a set of all unique $refs URIs found\n",
    "def find_refs_in_schema(schema, refs=None, path=''):\n",
    "    if refs is None:\n",
    "        refs = set()\n",
    "\n",
    "    if isinstance(schema, dict):\n",
    "        for key, value in schema.items():\n",
    "            current_path = f\"{path}/{key}\" if path else key\n",
    "            if key == '$ref' and isinstance(value, str):\n",
    "                refs.add(value)\n",
    "                print(f\"Found $ref at path: {current_path} -> {value}\")\n",
    "            else:\n",
    "                find_refs_in_schema(value, refs, current_path)\n",
    "    elif isinstance(schema, list):\n",
    "        for index, item in enumerate(schema):\n",
    "            find_refs_in_schema(item, refs, f\"{path}[{index}]\")\n",
    "\n",
    "    return refs\n"
   ]
  },
  {
   "cell_type": "code",
   "execution_count": 5,
   "metadata": {},
   "outputs": [
    {
     "name": "stdout",
     "output_type": "stream",
     "text": [
      "Found $ref at path: properties/subject/oneOf[1]/$ref -> urn:components#/$defs/UnspecifiedRecord\n",
      "Found $ref at path: properties/interestedParty/oneOf[1]/$ref -> urn:components#/$defs/UnspecifiedRecord\n",
      "Found $ref at path: properties/interests/items/$ref -> #/$defs/Interest\n",
      "Unique $refs found: {'#/$defs/Interest', 'urn:components#/$defs/UnspecifiedRecord'}\n"
     ]
    }
   ],
   "source": [
    "# Fetch the schema from the remote url\n",
    "schema = fetch_schema_from_url(relationship_record)\n",
    "\n",
    "# Find all $refs in the fetched schema\n",
    "refs_found = find_refs_in_schema(schema)\n",
    "print(\"Unique $refs found:\", refs_found)"
   ]
  },
  {
   "cell_type": "code",
   "execution_count": 6,
   "metadata": {},
   "outputs": [
    {
     "name": "stdout",
     "output_type": "stream",
     "text": [
      "Found $ref at path: properties/unspecifiedEntityDetails/$ref -> urn:components#/$defs/UnspecifiedRecord\n",
      "Found $ref at path: properties/jurisdiction/$ref -> urn:components#/$defs/Jurisdiction\n",
      "Found $ref at path: properties/identifiers/items/$ref -> urn:components#/$defs/Identifier\n",
      "Found $ref at path: properties/addresses/items/$ref -> urn:components#/$defs/Address\n",
      "Found $ref at path: properties/publicListing/$ref -> #/$defs/PublicListing\n",
      "Found $ref at path: $defs/PublicListing/properties/securitiesListings/items/$ref -> #/$defs/SecuritiesListing\n",
      "Unique $refs found: {'urn:components#/$defs/Jurisdiction', '#/$defs/SecuritiesListing', 'urn:components#/$defs/UnspecifiedRecord', '#/$defs/PublicListing', 'urn:components#/$defs/Address', 'urn:components#/$defs/Identifier'}\n"
     ]
    }
   ],
   "source": [
    "# Fetch the schema from the remote url\n",
    "schema = fetch_schema_from_url(entity_record)\n",
    "\n",
    "# Find all $refs in the fetched schema\n",
    "refs_found = find_refs_in_schema(schema)\n",
    "print(\"Unique $refs found:\", refs_found)"
   ]
  },
  {
   "cell_type": "code",
   "execution_count": 7,
   "metadata": {},
   "outputs": [
    {
     "name": "stdout",
     "output_type": "stream",
     "text": [
      "Found $ref at path: items/$ref -> #/$defs/Statement\n",
      "Found $ref at path: $defs/Statement/properties/annotations/items/$ref -> #/$defs/Annotation\n",
      "Found $ref at path: $defs/Statement/properties/source/$ref -> urn:components#/$defs/Source\n",
      "Found $ref at path: $defs/Statement/allOf[0]/then/properties/recordDetails/$ref -> urn:entity\n",
      "Found $ref at path: $defs/Statement/allOf[1]/then/properties/recordDetails/$ref -> urn:person\n",
      "Found $ref at path: $defs/Statement/allOf[2]/then/properties/recordDetails/$ref -> urn:relationship\n",
      "Unique $refs found: {'urn:relationship', 'urn:person', '#/$defs/Annotation', 'urn:entity', '#/$defs/Statement', 'urn:components#/$defs/Source'}\n"
     ]
    }
   ],
   "source": [
    "# Fetch the schema from the remote url\n",
    "schema = fetch_schema_from_url(statement)\n",
    "\n",
    "# Find all $refs in the fetched schema\n",
    "refs_found = find_refs_in_schema(schema)\n",
    "print(\"Unique $refs found:\", refs_found)"
   ]
  }
 ],
 "metadata": {
  "kernelspec": {
   "display_name": ".venv",
   "language": "python",
   "name": "python3"
  },
  "language_info": {
   "codemirror_mode": {
    "name": "ipython",
    "version": 3
   },
   "file_extension": ".py",
   "mimetype": "text/x-python",
   "name": "python",
   "nbconvert_exporter": "python",
   "pygments_lexer": "ipython3",
   "version": "3.12.3"
  }
 },
 "nbformat": 4,
 "nbformat_minor": 2
}
