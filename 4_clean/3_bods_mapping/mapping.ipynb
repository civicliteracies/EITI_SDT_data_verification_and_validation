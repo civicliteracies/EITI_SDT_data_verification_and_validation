{
 "cells": [
  {
   "cell_type": "code",
   "execution_count": 12,
   "metadata": {},
   "outputs": [],
   "source": [
    "import pandas as pd\n",
    "\n",
    "# Load data from CSV\n",
    "projects = pd.read_csv('cedric/database_files/eiti-data_part3-projects_1.1.csv')\n",
    "agencies = pd.read_csv('cedric/database_files/eiti-data_part4_1.1.csv')\n",
    "companies = pd.read_csv('cedric/database_files/eiti-data_part5-0.11.6.csv',low_memory=False)\n"
   ]
  }
 ],
 "metadata": {
  "kernelspec": {
   "display_name": "Python 3",
   "language": "python",
   "name": "python3"
  },
  "language_info": {
   "codemirror_mode": {
    "name": "ipython",
    "version": 3
   },
   "file_extension": ".py",
   "mimetype": "text/x-python",
   "name": "python",
   "nbconvert_exporter": "python",
   "pygments_lexer": "ipython3",
   "version": "3.12.3"
  }
 },
 "nbformat": 4,
 "nbformat_minor": 2
}
