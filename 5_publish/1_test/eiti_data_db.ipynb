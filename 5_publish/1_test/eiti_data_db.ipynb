{
 "cells": [
  {
   "cell_type": "code",
   "execution_count": 1,
   "metadata": {},
   "outputs": [],
   "source": [
    "import sqlite3\n",
    "\n",
    "# Connect to the SQLite database\n",
    "conn = sqlite3.connect('eiti_data.db')\n",
    "\n",
    "# Create a cursor object using the cursor() method\n",
    "cursor = conn.cursor()"
   ]
  },
  {
   "cell_type": "code",
   "execution_count": 2,
   "metadata": {},
   "outputs": [
    {
     "data": {
      "text/plain": [
       "31882"
      ]
     },
     "execution_count": 2,
     "metadata": {},
     "output_type": "execute_result"
    }
   ],
   "source": [
    "import pandas as pd\n",
    "\n",
    "# Load the data into a pandas DataFrame\n",
    "data_df = pd.read_csv('data/consolidated/Part 5 - Company data.csv')\n",
    "\n",
    "# Use pandas to write the data from pandas DataFrame to the SQLite table\n",
    "data_df.to_sql('ledger_detailed_data', conn, if_exists='append', index=False)"
   ]
  },
  {
   "cell_type": "code",
   "execution_count": 3,
   "metadata": {},
   "outputs": [
    {
     "name": "stdout",
     "output_type": "stream",
     "text": [
      "('North Coal Enterprise (NCE)', 'Ministry of Mines and Petroleum (Revenue Department)', 'Royalties', 'Yes', 'Yes', 'EXP 1/2014', 'AFN', '442801100', 'No', 'Not applicable', 'Not applicable', '2018-09-22', 'Afghanistan', 'AFG', 2018, '2017-12-21', '2018-12-20')\n",
      "('North Coal Enterprise (NCE)', 'Ministry of Mines and Petroleum (Revenue Department)', 'Royalties', 'Yes', 'Yes', 'EXP 1/2014', 'AFN', '386169944', 'No', 'Not applicable', 'Not applicable', '2018-06-24', 'Afghanistan', 'AFG', 2018, '2017-12-21', '2018-12-20')\n",
      "('North Coal Enterprise (NCE)', 'Ministry of Mines and Petroleum (Revenue Department)', 'Royalties', 'Yes', 'Yes', 'EXP 1/2014', 'AFN', '336623658', 'No', 'Not applicable', 'Not applicable', '2018-04-18', 'Afghanistan', 'AFG', 2018, '2017-12-21', '2018-12-20')\n",
      "('North Coal Enterprise (NCE)', 'Ministry of Mines and Petroleum (Revenue Department)', 'Royalties', 'Yes', 'Yes', 'EXP 1/2014', 'AFN', '300000000', 'No', 'Not applicable', 'Not applicable', '2018-11-19', 'Afghanistan', 'AFG', 2018, '2017-12-21', '2018-12-20')\n",
      "('Habib Shahab Talc and Marble exploitation and process company', 'Ministry of Mines and Petroleum (Revenue Department)', 'Penalties of Late Payment', None, None, None, 'AFN', '18', None, None, None, None, 'Afghanistan', 'AFG', 2018, '2017-12-21', '2018-12-20')\n"
     ]
    }
   ],
   "source": [
    "# Query the table to retrieve the first few rows\n",
    "cursor.execute('SELECT * FROM ledger_detailed_data LIMIT 5;')\n",
    "\n",
    "# Fetch and print the results\n",
    "results = cursor.fetchall()\n",
    "for row in results:\n",
    "    print(row)"
   ]
  },
  {
   "cell_type": "code",
   "execution_count": 4,
   "metadata": {},
   "outputs": [
    {
     "data": {
      "text/plain": [
       "2319"
      ]
     },
     "execution_count": 4,
     "metadata": {},
     "output_type": "execute_result"
    }
   ],
   "source": [
    "# Load and insert Government Revenues data\n",
    "gov_revenue_df = pd.read_csv('data/consolidated/Part 4 - Government revenues.csv')\n",
    "gov_revenue_df.to_sql('ledger_government_revenue', conn, if_exists='replace', index=False)"
   ]
  },
  {
   "cell_type": "code",
   "execution_count": 9,
   "metadata": {},
   "outputs": [
    {
     "data": {
      "text/plain": [
       "4979"
      ]
     },
     "execution_count": 9,
     "metadata": {},
     "output_type": "execute_result"
    }
   ],
   "source": [
    "# Load and insert Reporting Projects data\n",
    "projects_df = pd.read_csv('data/consolidated/Part 3 - Reporting projects\\' list.csv')\n",
    "projects_df.to_sql('ledger_reporting_projects', conn, if_exists='replace', index=False)"
   ]
  },
  {
   "cell_type": "code",
   "execution_count": 10,
   "metadata": {},
   "outputs": [
    {
     "data": {
      "text/plain": [
       "547"
      ]
     },
     "execution_count": 10,
     "metadata": {},
     "output_type": "execute_result"
    }
   ],
   "source": [
    "# Load and insert Reporting Government Entities data\n",
    "gov_entities_df = pd.read_csv('data/consolidated/Part 3 - Reporting government entities list.csv')\n",
    "gov_entities_df.to_sql('ledger_reporting_government_entities', conn, if_exists='replace', index=False)"
   ]
  },
  {
   "cell_type": "code",
   "execution_count": 13,
   "metadata": {},
   "outputs": [
    {
     "data": {
      "text/plain": [
       "3792"
      ]
     },
     "execution_count": 13,
     "metadata": {},
     "output_type": "execute_result"
    }
   ],
   "source": [
    "# Load and insert Reporting Companies data\n",
    "companies_df = pd.read_csv('data/consolidated/Part 3 - Reporting companies\\' list.csv')\n",
    "companies_df.to_sql('ledger_reporting_companies', conn, if_exists='replace', index=False)"
   ]
  },
  {
   "cell_type": "code",
   "execution_count": 19,
   "metadata": {},
   "outputs": [],
   "source": [
    "# Define the SQL query for creating the view\n",
    "sql_create_view = '''\n",
    "CREATE VIEW IF NOT EXISTS ledger_full_company_data AS\n",
    "SELECT \n",
    "    d.*,\n",
    "    c.\"Company type\" AS Company_type,\n",
    "    c.\"Company ID number\" AS Company_ID_number,\n",
    "    c.Sector,\n",
    "    c.\"Commodities (comma-seperated)\" AS Commodities,\n",
    "    c.\"Stock exchange listing or company website\" AS Stock_exchange_listing_or_company_website,\n",
    "    c.\"Audited financial statement (or balance sheet, cash flows, profit/loss statement if unavailable)\" AS Audited_financial_statement,\n",
    "    c.\"Payments to Governments Report\" AS Payments_to_Governments_Report,\n",
    "    c.Country AS Reporting_Country,\n",
    "    c.\"ISO Code\" AS Reporting_ISO_Code,\n",
    "    c.Year AS Reporting_Year,\n",
    "    c.\"Start Date\" AS Reporting_Start_Date,\n",
    "    c.\"End Date\" AS Reporting_End_Date\n",
    "FROM \n",
    "    ledger_detailed_data d\n",
    "JOIN \n",
    "    ledger_reporting_companies c ON d.Company = c.\"Full company name\"\n",
    "WHERE \n",
    "    c.\"Company type\" = 'State-owned enterprises & public corporations';\n",
    "'''\n",
    "\n",
    "# Execute the SQL command\n",
    "cursor.execute(sql_create_view)\n",
    "conn.commit()  # Commit the transaction"
   ]
  },
  {
   "cell_type": "code",
   "execution_count": 40,
   "metadata": {},
   "outputs": [
    {
     "name": "stdout",
     "output_type": "stream",
     "text": [
      "ledger_detailed_data\n",
      "ledger_government_revenue\n",
      "ledger_reporting_projects\n",
      "ledger_reporting_government_entities\n",
      "ledger_reporting_companies\n"
     ]
    }
   ],
   "source": [
    "# Query to find all table names in the database\n",
    "query = \"SELECT name FROM sqlite_master WHERE type='table';\"\n",
    "\n",
    "# Execute the query\n",
    "cursor.execute(query)\n",
    "\n",
    "# Fetch all results\n",
    "tables = cursor.fetchall()\n",
    "\n",
    "# Print the list of tables\n",
    "for table in tables:\n",
    "    print(table[0])"
   ]
  },
  {
   "cell_type": "code",
   "execution_count": 24,
   "metadata": {},
   "outputs": [
    {
     "name": "stdout",
     "output_type": "stream",
     "text": [
      "(0, 'Full company name', 'TEXT', 0, None, 0)\n",
      "(1, 'Company type', 'TEXT', 0, None, 0)\n",
      "(2, 'Company ID number', 'TEXT', 0, None, 0)\n",
      "(3, 'Sector', 'TEXT', 0, None, 0)\n",
      "(4, 'Commodities (comma-seperated)', 'TEXT', 0, None, 0)\n",
      "(5, 'Stock exchange listing or company website', 'TEXT', 0, None, 0)\n",
      "(6, 'Audited financial statement (or balance sheet, cash flows, profit/loss statement if unavailable)', 'TEXT', 0, None, 0)\n",
      "(7, 'Payments to Governments Report', 'TEXT', 0, None, 0)\n",
      "(8, 'Country', 'TEXT', 0, None, 0)\n",
      "(9, 'ISO Code', 'TEXT', 0, None, 0)\n",
      "(10, 'Year', 'INTEGER', 0, None, 0)\n",
      "(11, 'Start Date', 'TEXT', 0, None, 0)\n",
      "(12, 'End Date', 'TEXT', 0, None, 0)\n"
     ]
    }
   ],
   "source": [
    "# Check the columns of the table\n",
    "cursor.execute(\"PRAGMA table_info(ledger_reporting_companies);\")\n",
    "columns = cursor.fetchall()\n",
    "for column in columns:\n",
    "    print(column)"
   ]
  },
  {
   "cell_type": "code",
   "execution_count": 25,
   "metadata": {},
   "outputs": [
    {
     "name": "stdout",
     "output_type": "stream",
     "text": [
      "(0, 'Company', 'TEXT', 0, None, 0)\n",
      "(1, 'Government entity', 'TEXT', 0, None, 0)\n",
      "(2, 'Revenue stream name', 'TEXT', 0, None, 0)\n",
      "(3, 'Levied on project (Y/N)', 'TEXT', 0, None, 0)\n",
      "(4, 'Reported by project (Y/N)', 'TEXT', 0, None, 0)\n",
      "(5, 'Project name', 'TEXT', 0, None, 0)\n",
      "(6, 'Reporting currency', 'TEXT', 0, None, 0)\n",
      "(7, 'Revenue value', 'TEXT', 0, None, 0)\n",
      "(8, 'Payment made in-kind (Y/N)', 'TEXT', 0, None, 0)\n",
      "(9, 'In-kind volume (if applicable)', 'TEXT', 0, None, 0)\n",
      "(10, 'Unit (if applicable)', 'TEXT', 0, None, 0)\n",
      "(11, 'Comments', 'TEXT', 0, None, 0)\n",
      "(12, 'Country', 'TEXT', 0, None, 0)\n",
      "(13, 'ISO Code', 'TEXT', 0, None, 0)\n",
      "(14, 'Year', 'INTEGER', 0, None, 0)\n",
      "(15, 'Start Date', 'TEXT', 0, None, 0)\n",
      "(16, 'End Date', 'TEXT', 0, None, 0)\n"
     ]
    }
   ],
   "source": [
    "# Check the columns of the table\n",
    "cursor.execute(\"PRAGMA table_info(ledger_detailed_data);\")\n",
    "columns = cursor.fetchall()\n",
    "for column in columns:\n",
    "    print(column)"
   ]
  },
  {
   "cell_type": "code",
   "execution_count": 37,
   "metadata": {},
   "outputs": [
    {
     "name": "stdout",
     "output_type": "stream",
     "text": [
      "Column found: ('Private',)\n"
     ]
    }
   ],
   "source": [
    "# Basic select query to check column recognition\n",
    "try:\n",
    "    cursor.execute('SELECT \"Company type\" FROM ledger_reporting_companies LIMIT 1')\n",
    "    print(\"Column found:\", cursor.fetchone())\n",
    "except Exception as e:\n",
    "    print(\"Error:\", e)"
   ]
  },
  {
   "cell_type": "code",
   "execution_count": 38,
   "metadata": {},
   "outputs": [
    {
     "name": "stdout",
     "output_type": "stream",
     "text": [
      "View created successfully.\n"
     ]
    }
   ],
   "source": [
    "# Start by creating a simpler version of the view\n",
    "sql_create_view = '''\n",
    "CREATE VIEW IF NOT EXISTS ledger_full_company_data AS\n",
    "SELECT \n",
    "    d.Company,\n",
    "    c.\"Full company name\",\n",
    "    c.\"Company type\"\n",
    "FROM \n",
    "    ledger_detailed_data d\n",
    "JOIN \n",
    "    ledger_reporting_companies c ON d.Company = c.\"Full company name\"\n",
    "WHERE \n",
    "    c.\"Company type\" = 'State-owned enterprises & public corporations';\n",
    "'''\n",
    "\n",
    "try:\n",
    "    cursor.execute(sql_create_view)\n",
    "    conn.commit()\n",
    "    print(\"View created successfully.\")\n",
    "except Exception as e:\n",
    "    print(\"Error creating view:\", e)\n"
   ]
  },
  {
   "cell_type": "code",
   "execution_count": 41,
   "metadata": {},
   "outputs": [
    {
     "name": "stdout",
     "output_type": "stream",
     "text": [
      "View recreated successfully with updated columns.\n"
     ]
    }
   ],
   "source": [
    "# Drop the existing view if it exists\n",
    "sql_drop_view = '''\n",
    "DROP VIEW IF EXISTS ledger_full_company_data;\n",
    "'''\n",
    "\n",
    "# Define the updated SQL query for recreating the view\n",
    "sql_create_view = '''\n",
    "CREATE VIEW IF NOT EXISTS ledger_full_company_data AS\n",
    "SELECT \n",
    "    d.*,\n",
    "    c.\"Company type\",\n",
    "    c.\"Company ID number\",\n",
    "    c.Sector,\n",
    "    -- Add more columns as needed\n",
    "    c.\"Commodities (comma-separated)\" AS Commodities,\n",
    "    c.\"Stock exchange listing or company website\" AS Stock_exchange_listing_or_company_website,\n",
    "    c.\"Audited financial statement (or balance sheet, cash flows, profit/loss statement if unavailable)\" AS Audited_financial_statement,\n",
    "    c.\"Payments to Governments Report\" AS Payments_to_Governments_Report,\n",
    "    c.Country AS Reporting_Country,\n",
    "    c.\"ISO Code\" AS Reporting_ISO_Code,\n",
    "    c.Year AS Reporting_Year,\n",
    "    c.\"Start Date\" AS Reporting_Start_Date,\n",
    "    c.\"End Date\" AS Reporting_End_Date\n",
    "FROM \n",
    "    ledger_detailed_data d\n",
    "JOIN \n",
    "    ledger_reporting_companies c ON d.Company = c.\"Full company name\"\n",
    "WHERE \n",
    "    c.\"Company type\" = 'State-owned enterprises & public corporations';\n",
    "'''\n",
    "\n",
    "# Execute the drop and recreate commands\n",
    "try:\n",
    "    cursor.execute(sql_drop_view)\n",
    "    cursor.execute(sql_create_view)\n",
    "    conn.commit()\n",
    "    print(\"View recreated successfully with updated columns.\")\n",
    "except Exception as e:\n",
    "    print(\"Error updating view:\", e)"
   ]
  },
  {
   "cell_type": "code",
   "execution_count": 42,
   "metadata": {},
   "outputs": [
    {
     "name": "stdout",
     "output_type": "stream",
     "text": [
      "The view 'ledger_full_company_data' exists.\n"
     ]
    }
   ],
   "source": [
    "# SQL query to check if the view exists\n",
    "sql_check_view = \"SELECT name FROM sqlite_master WHERE type='view' AND name='ledger_full_company_data';\"\n",
    "\n",
    "# Execute the query\n",
    "cursor.execute(sql_check_view)\n",
    "result = cursor.fetchone()\n",
    "\n",
    "# Check if the view exists\n",
    "if result:\n",
    "    print(\"The view 'ledger_full_company_data' exists.\")\n",
    "else:\n",
    "    print(\"The view 'ledger_full_company_data' does not exist.\")"
   ]
  },
  {
   "cell_type": "code",
   "execution_count": 43,
   "metadata": {},
   "outputs": [],
   "source": [
    "# Close the cursor and the connection\n",
    "cursor.close()\n",
    "conn.close()"
   ]
  }
 ],
 "metadata": {
  "kernelspec": {
   "display_name": "Python 3 (ipykernel)",
   "language": "python",
   "name": "python3"
  },
  "language_info": {
   "codemirror_mode": {
    "name": "ipython",
    "version": 3
   },
   "file_extension": ".py",
   "mimetype": "text/x-python",
   "name": "python",
   "nbconvert_exporter": "python",
   "pygments_lexer": "ipython3",
   "version": "3.10.13"
  }
 },
 "nbformat": 4,
 "nbformat_minor": 2
}
