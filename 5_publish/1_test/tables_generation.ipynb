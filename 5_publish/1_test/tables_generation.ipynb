{
 "cells": [
  {
   "cell_type": "code",
   "execution_count": null,
   "metadata": {},
   "outputs": [],
   "source": [
    "import pandas as pd\n",
    "\n",
    "# Load the CSV files\n",
    "df1 = pd.read_csv('4_clean/2_data_editing/output/eiti-data_part1_1.3.csv')\n",
    "df2 = pd.read_csv('4_clean/2_data_editing/output/eiti-data_part5-0.11.8.csv')\n",
    "\n",
    "# Display the first few rows of the dataframes to understand their structure\n",
    "df1.head(), df2.head()"
   ]
  }
 ],
 "metadata": {
  "kernelspec": {
   "display_name": ".venv",
   "language": "python",
   "name": "python3"
  },
  "language_info": {
   "name": "python",
   "version": "3.12.3"
  }
 },
 "nbformat": 4,
 "nbformat_minor": 2
}
